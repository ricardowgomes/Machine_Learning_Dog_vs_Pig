{
  "nbformat": 4,
  "nbformat_minor": 0,
  "metadata": {
    "colab": {
      "name": "Machine Learning Classification.ipynb",
      "provenance": []
    },
    "kernelspec": {
      "name": "python3",
      "display_name": "Python 3"
    },
    "language_info": {
      "name": "python"
    }
  },
  "cells": [
    {
      "cell_type": "code",
      "metadata": {
        "id": "8N7x3WwGm7Cq"
      },
      "source": [
        "# features (yes = 1, no = 0)\n",
        "# Does it have long fur?\n",
        "# Does it have short legs?\n",
        "# Does it do woof-woof?\n",
        "pig1 = [0, 1, 0]\n",
        "pig2 = [0, 1, 1]\n",
        "pig3 = [1, 1, 0]\n",
        "\n",
        "dog1 = [0, 1, 1]\n",
        "dog2 = [1, 0, 1]\n",
        "dog3 = [1, 1, 1]\n",
        "\n",
        "# 1 => PIG, 0 => DOG\n",
        "train_x = [pig1, pig2, pig3, dog1, dog2, dog3]\n",
        "train_y = [1, 1, 1, 0, 0, 0] # labels"
      ],
      "execution_count": 1,
      "outputs": []
    },
    {
      "cell_type": "code",
      "metadata": {
        "colab": {
          "base_uri": "https://localhost:8080/"
        },
        "id": "_k33At36oXK2",
        "outputId": "e065d626-a228-4269-f3f6-f183483bfa18"
      },
      "source": [
        "from sklearn.svm import LinearSVC\n",
        "\n",
        "model = LinearSVC()\n",
        "model.fit(train_x, train_y)"
      ],
      "execution_count": null,
      "outputs": [
        {
          "output_type": "execute_result",
          "data": {
            "text/plain": [
              "LinearSVC(C=1.0, class_weight=None, dual=True, fit_intercept=True,\n",
              "          intercept_scaling=1, loss='squared_hinge', max_iter=1000,\n",
              "          multi_class='ovr', penalty='l2', random_state=None, tol=0.0001,\n",
              "          verbose=0)"
            ]
          },
          "metadata": {
            "tags": []
          },
          "execution_count": 11
        }
      ]
    },
    {
      "cell_type": "code",
      "metadata": {
        "colab": {
          "base_uri": "https://localhost:8080/"
        },
        "id": "kdGBz_r4pYTQ",
        "outputId": "524a6fec-c3da-4dd0-f52e-44ceff574a9c"
      },
      "source": [
        "mistery_animal = [1,1,1]\n",
        "model.predict([mistery_animal])"
      ],
      "execution_count": null,
      "outputs": [
        {
          "output_type": "execute_result",
          "data": {
            "text/plain": [
              "array([0])"
            ]
          },
          "metadata": {
            "tags": []
          },
          "execution_count": 12
        }
      ]
    },
    {
      "cell_type": "code",
      "metadata": {
        "id": "tYGpxpeAprhi"
      },
      "source": [
        "mistery_animal1 = [1,1,1]\n",
        "mistery_animal2 = [1,1,0]\n",
        "mistery_animal3 = [0,1,1]\n",
        "\n",
        "test_x = [mistery_animal1, mistery_animal2, mistery_animal3]\n",
        "test_y = [0,1,1]"
      ],
      "execution_count": null,
      "outputs": []
    },
    {
      "cell_type": "code",
      "metadata": {
        "colab": {
          "base_uri": "https://localhost:8080/"
        },
        "id": "23v9tONOqFtJ",
        "outputId": "d0d8fe18-3b4d-4a3a-8523-83c664b6f5e7"
      },
      "source": [
        "prediction = model.predict(test_x)\n",
        "prediction"
      ],
      "execution_count": null,
      "outputs": [
        {
          "output_type": "execute_result",
          "data": {
            "text/plain": [
              "array([0, 1, 0])"
            ]
          },
          "metadata": {
            "tags": []
          },
          "execution_count": 14
        }
      ]
    },
    {
      "cell_type": "code",
      "metadata": {
        "colab": {
          "base_uri": "https://localhost:8080/"
        },
        "id": "2r-SpBxZqcQu",
        "outputId": "fb043937-0d6f-4369-fe11-56fbacaf7ad3"
      },
      "source": [
        "prediction == test_y"
      ],
      "execution_count": null,
      "outputs": [
        {
          "output_type": "execute_result",
          "data": {
            "text/plain": [
              "array([ True,  True, False])"
            ]
          },
          "metadata": {
            "tags": []
          },
          "execution_count": 15
        }
      ]
    },
    {
      "cell_type": "code",
      "metadata": {
        "colab": {
          "base_uri": "https://localhost:8080/"
        },
        "id": "vUifSCSlqkjy",
        "outputId": "c71a332b-b922-47b6-ee31-d85c6f3ef91e"
      },
      "source": [
        "corrects = (prediction == test_y).sum()\n",
        "total = len(test_x)\n",
        "hit_rate = corrects / total\n",
        "print('The Hit Rate for this first prediction is %.2f'%(hit_rate * 100),'%')\n"
      ],
      "execution_count": null,
      "outputs": [
        {
          "output_type": "stream",
          "text": [
            "The Hit Rate for this first prediction is 66.67 %\n"
          ],
          "name": "stdout"
        }
      ]
    },
    {
      "cell_type": "code",
      "metadata": {
        "id": "fPmVCe2qq4_V"
      },
      "source": [
        "from sklearn.metrics import accuracy_score"
      ],
      "execution_count": null,
      "outputs": []
    },
    {
      "cell_type": "code",
      "metadata": {
        "colab": {
          "base_uri": "https://localhost:8080/"
        },
        "id": "NSyvRScxr2Hq",
        "outputId": "d5e1aa76-fd44-4253-bdc9-dd77fc5d3ba6"
      },
      "source": [
        "correct_rate = accuracy_score(test_y, prediction)\n",
        "print(f'The Hit Rate for this first prediction is: {correct_rate * 100}%')\n"
      ],
      "execution_count": null,
      "outputs": [
        {
          "output_type": "stream",
          "text": [
            "The Hit Rate for this first prediction is: 66.66666666666666%\n"
          ],
          "name": "stdout"
        }
      ]
    },
    {
      "cell_type": "code",
      "metadata": {
        "id": "zWZz7-sAsOxT"
      },
      "source": [
        ""
      ],
      "execution_count": null,
      "outputs": []
    }
  ]
}